{
  "cells": [
    {
      "cell_type": "markdown",
      "metadata": {
        "id": "qvQjFsUpG-ak"
      },
      "source": [
        "##Muskan Arora\n",
        "##102015040\n",
        "##ENC-2\n"
      ]
    },
    {
      "cell_type": "code",
      "execution_count": 51,
      "metadata": {
        "id": "NZBE_j_jWZeD"
      },
      "outputs": [],
      "source": [
        "import pickle\n",
        "import numpy as np"
      ]
    },
    {
      "cell_type": "code",
      "source": [
        "from nltk.tokenize import word_tokenize\n",
        "from functools import reduce\n",
        "import nltk\n",
        "nltk.download('punkt')\n",
        "def parse_stories(lines):\n",
        "    '''\n",
        "    - Parse stories provided in the bAbI tasks format\n",
        "    - A story starts from line 1 to line 15. Every 3rd line,\n",
        "      there is a question &amp;amp;amp;amp;amp; answer.\n",
        "    - Function extracts sub-stories within a story and\n",
        "      creates tuples\n",
        "    '''\n",
        "    data = []\n",
        "    story = []\n",
        "    for line in lines:\n",
        "        line = line.decode('utf-8').strip()\n",
        "        nid, line = line.split(' ', 1)\n",
        "        nid = int(nid)\n",
        "        if nid == 1:\n",
        "            # reset story when line ID=1 (start of new story)\n",
        "            story = []\n",
        "        if '\\t' in line:\n",
        "            # this line is tab separated Q, A &amp;amp;amp;amp;amp; support fact ID\n",
        "            q, a, supporting = line.split('\\t')\n",
        "            # tokenize the words of question\n",
        "            q = word_tokenize(q)\n",
        "            # Provide all the sub-stories till this question\n",
        "            substory = [x for x in story if x]\n",
        "            # A story ends and is appended to global story data-set\n",
        "            data.append((substory, q, a))\n",
        "            story.append('')\n",
        "        else:\n",
        "            # this line is a sentence of story\n",
        "            sent = word_tokenize(line)\n",
        "            story.append(sent)\n",
        "    return data\n",
        "\n",
        "def get_stories(f):\n",
        "    '''\n",
        "    argument: filename\n",
        "    returns list of all stories in the argument data-set file\n",
        "    '''\n",
        "    # read the data file and parse 10k stories\n",
        "    data = parse_stories(f.readlines())\n",
        "    # lambda func to flatten the list of sentences into one list\n",
        "    flatten = lambda data: reduce(lambda x, y: x + y, data)\n",
        "    # creating list of tuples for each story\n",
        "    data = [(flatten(story), q, answer) for story, q, answer in data]\n",
        "    return data"
      ],
      "metadata": {
        "colab": {
          "base_uri": "https://localhost:8080/"
        },
        "id": "9S6GNAQpQpJl",
        "outputId": "99a79a0c-5f27-410c-bf88-3a10cb4a3808"
      },
      "execution_count": 52,
      "outputs": [
        {
          "output_type": "stream",
          "name": "stderr",
          "text": [
            "[nltk_data] Downloading package punkt to /root/nltk_data...\n",
            "[nltk_data]   Package punkt is already up-to-date!\n"
          ]
        }
      ]
    },
    {
      "cell_type": "code",
      "execution_count": 53,
      "metadata": {
        "id": "iaWtx24OWZeF"
      },
      "outputs": [],
      "source": [
        "from keras.utils.data_utils import get_file\n",
        "with open('qa1_single-supporting-fact_train.txt', 'rb') as f:\n",
        "  train_data = get_stories(f)"
      ]
    },
    {
      "cell_type": "code",
      "execution_count": 54,
      "metadata": {
        "id": "TzspN4TfWZeG"
      },
      "outputs": [],
      "source": [
        "with open('qa1_single-supporting-fact_test.txt', 'rb') as f:\n",
        "  test_data = get_stories(f)"
      ]
    },
    {
      "cell_type": "code",
      "execution_count": 55,
      "metadata": {
        "colab": {
          "base_uri": "https://localhost:8080/"
        },
        "id": "OwkMMmoIWZeG",
        "outputId": "187909f8-53a2-40a1-9e06-638749888302"
      },
      "outputs": [
        {
          "output_type": "stream",
          "name": "stdout",
          "text": [
            "<class 'list'>\n",
            "<class 'list'>\n"
          ]
        }
      ],
      "source": [
        "print(type(train_data))\n",
        "print(type(test_data))"
      ]
    },
    {
      "cell_type": "code",
      "execution_count": 56,
      "metadata": {
        "colab": {
          "base_uri": "https://localhost:8080/"
        },
        "id": "Rpny0EkzWZeH",
        "outputId": "66e28b7d-9e4a-4738-9537-4064c478fd0f"
      },
      "outputs": [
        {
          "output_type": "stream",
          "name": "stdout",
          "text": [
            "Length of the train data:  10000\n",
            "Length of the test data:  1000\n"
          ]
        }
      ],
      "source": [
        "print(\"Length of the train data: \", len(train_data))\n",
        "print(\"Length of the test data: \", len(test_data))"
      ]
    },
    {
      "cell_type": "code",
      "execution_count": 57,
      "metadata": {
        "colab": {
          "base_uri": "https://localhost:8080/"
        },
        "id": "vawZT5CdWZeI",
        "outputId": "64998a97-452c-4987-fcfb-e9946da1ec6d"
      },
      "outputs": [
        {
          "output_type": "execute_result",
          "data": {
            "text/plain": [
              "[(['Mary',\n",
              "   'moved',\n",
              "   'to',\n",
              "   'the',\n",
              "   'bathroom',\n",
              "   '.',\n",
              "   'John',\n",
              "   'went',\n",
              "   'to',\n",
              "   'the',\n",
              "   'hallway',\n",
              "   '.'],\n",
              "  ['Where', 'is', 'Mary', '?'],\n",
              "  'bathroom'),\n",
              " (['Mary',\n",
              "   'moved',\n",
              "   'to',\n",
              "   'the',\n",
              "   'bathroom',\n",
              "   '.',\n",
              "   'John',\n",
              "   'went',\n",
              "   'to',\n",
              "   'the',\n",
              "   'hallway',\n",
              "   '.',\n",
              "   'Daniel',\n",
              "   'went',\n",
              "   'back',\n",
              "   'to',\n",
              "   'the',\n",
              "   'hallway',\n",
              "   '.',\n",
              "   'Sandra',\n",
              "   'moved',\n",
              "   'to',\n",
              "   'the',\n",
              "   'garden',\n",
              "   '.'],\n",
              "  ['Where', 'is', 'Daniel', '?'],\n",
              "  'hallway')]"
            ]
          },
          "metadata": {},
          "execution_count": 57
        }
      ],
      "source": [
        "train_data[:2]"
      ]
    },
    {
      "cell_type": "code",
      "execution_count": 58,
      "metadata": {
        "colab": {
          "base_uri": "https://localhost:8080/"
        },
        "id": "NPeLfvY9WZeK",
        "outputId": "73a37885-e62b-44c1-eac9-a1652460693b"
      },
      "outputs": [
        {
          "output_type": "execute_result",
          "data": {
            "text/plain": [
              "(['Mary',\n",
              "  'moved',\n",
              "  'to',\n",
              "  'the',\n",
              "  'bathroom',\n",
              "  '.',\n",
              "  'John',\n",
              "  'went',\n",
              "  'to',\n",
              "  'the',\n",
              "  'hallway',\n",
              "  '.'],\n",
              " ['Where', 'is', 'Mary', '?'],\n",
              " 'bathroom')"
            ]
          },
          "metadata": {},
          "execution_count": 58
        }
      ],
      "source": [
        "# Train_data is a list of tuples consist of 3 parts: story, question, answer.\n",
        "train_data[0]"
      ]
    },
    {
      "cell_type": "code",
      "execution_count": 59,
      "metadata": {
        "colab": {
          "base_uri": "https://localhost:8080/",
          "height": 35
        },
        "id": "TSGEpXCHWZeM",
        "outputId": "9d3a8c7f-2010-4d8a-a4bd-481e1fc5eb80"
      },
      "outputs": [
        {
          "output_type": "execute_result",
          "data": {
            "text/plain": [
              "'Mary moved to the bathroom . John went to the hallway .'"
            ],
            "application/vnd.google.colaboratory.intrinsic+json": {
              "type": "string"
            }
          },
          "metadata": {},
          "execution_count": 59
        }
      ],
      "source": [
        "' '.join(train_data[0][0])"
      ]
    },
    {
      "cell_type": "code",
      "execution_count": 60,
      "metadata": {
        "colab": {
          "base_uri": "https://localhost:8080/",
          "height": 35
        },
        "id": "bb7_qD5lWZeN",
        "outputId": "68769807-3f12-488b-95a3-5bd04c982f96"
      },
      "outputs": [
        {
          "output_type": "execute_result",
          "data": {
            "text/plain": [
              "'Where is Mary ?'"
            ],
            "application/vnd.google.colaboratory.intrinsic+json": {
              "type": "string"
            }
          },
          "metadata": {},
          "execution_count": 60
        }
      ],
      "source": [
        "' '.join(train_data[0][1])"
      ]
    },
    {
      "cell_type": "code",
      "execution_count": 61,
      "metadata": {
        "colab": {
          "base_uri": "https://localhost:8080/",
          "height": 35
        },
        "id": "57LeiRqxWZeN",
        "outputId": "1fe4c06a-ffac-4a3e-cca8-482fa8a6e3ce"
      },
      "outputs": [
        {
          "output_type": "execute_result",
          "data": {
            "text/plain": [
              "'bathroom'"
            ],
            "application/vnd.google.colaboratory.intrinsic+json": {
              "type": "string"
            }
          },
          "metadata": {},
          "execution_count": 61
        }
      ],
      "source": [
        "train_data[0][2]"
      ]
    },
    {
      "cell_type": "code",
      "execution_count": 62,
      "metadata": {
        "id": "t8LYkw6sWZeN"
      },
      "outputs": [],
      "source": [
        "all_data = test_data + train_data"
      ]
    },
    {
      "cell_type": "code",
      "execution_count": 63,
      "metadata": {
        "colab": {
          "base_uri": "https://localhost:8080/"
        },
        "id": "TsXcQLT2WZeN",
        "outputId": "8299d1cc-f634-4af7-dba1-8708b43082b1"
      },
      "outputs": [
        {
          "output_type": "execute_result",
          "data": {
            "text/plain": [
              "11000"
            ]
          },
          "metadata": {},
          "execution_count": 63
        }
      ],
      "source": [
        "len(all_data)"
      ]
    },
    {
      "cell_type": "code",
      "execution_count": 64,
      "metadata": {
        "colab": {
          "base_uri": "https://localhost:8080/"
        },
        "id": "ce6SGcXWWZeO",
        "outputId": "e82a0faa-5fe5-424f-be54-dad7bf54d8b8"
      },
      "outputs": [
        {
          "output_type": "execute_result",
          "data": {
            "text/plain": [
              "{'.', 'John', 'Mary', 'bathroom', 'hallway', 'moved', 'the', 'to', 'went'}"
            ]
          },
          "metadata": {},
          "execution_count": 64
        }
      ],
      "source": [
        "set(train_data[0][0])"
      ]
    },
    {
      "cell_type": "code",
      "execution_count": 65,
      "metadata": {
        "id": "OepFfAJpWZeO"
      },
      "outputs": [],
      "source": [
        "# Build vocabulary from all stories and questions\n",
        "vocab = set()\n",
        "\n",
        "for story, question, answer in all_data:\n",
        "    vocab = vocab.union(set(story))\n",
        "    vocab = vocab.union(set(question))"
      ]
    },
    {
      "cell_type": "code",
      "execution_count": 66,
      "metadata": {
        "id": "toGj4JNbWZeO"
      },
      "outputs": [],
      "source": [
        "vocab.add('no')"
      ]
    },
    {
      "cell_type": "code",
      "execution_count": 67,
      "metadata": {
        "id": "rCe7czI2WZeP"
      },
      "outputs": [],
      "source": [
        "vocab.add('yes')"
      ]
    },
    {
      "cell_type": "code",
      "execution_count": 68,
      "metadata": {
        "colab": {
          "base_uri": "https://localhost:8080/"
        },
        "id": "t1CcBokUWZeP",
        "outputId": "266681d7-35e6-4694-b99f-a41f15ee286e"
      },
      "outputs": [
        {
          "output_type": "execute_result",
          "data": {
            "text/plain": [
              "{'.',\n",
              " '?',\n",
              " 'Daniel',\n",
              " 'John',\n",
              " 'Mary',\n",
              " 'Sandra',\n",
              " 'Where',\n",
              " 'back',\n",
              " 'bathroom',\n",
              " 'bedroom',\n",
              " 'garden',\n",
              " 'hallway',\n",
              " 'is',\n",
              " 'journeyed',\n",
              " 'kitchen',\n",
              " 'moved',\n",
              " 'no',\n",
              " 'office',\n",
              " 'the',\n",
              " 'to',\n",
              " 'travelled',\n",
              " 'went',\n",
              " 'yes'}"
            ]
          },
          "metadata": {},
          "execution_count": 68
        }
      ],
      "source": [
        "vocab"
      ]
    },
    {
      "cell_type": "code",
      "execution_count": 69,
      "metadata": {
        "colab": {
          "base_uri": "https://localhost:8080/"
        },
        "id": "qIGgeHePWZeP",
        "outputId": "71c6b7d4-336a-414e-cf0a-10ba0f63701f"
      },
      "outputs": [
        {
          "output_type": "stream",
          "name": "stdout",
          "text": [
            "Actual length of the vocabulary:  23\n"
          ]
        }
      ],
      "source": [
        "# Add one to length of vocabulary: Keras embedding layer requires this.\n",
        "vocab_len = len(vocab) + 1\n",
        "print(\"Actual length of the vocabulary: \", vocab_len-1)"
      ]
    },
    {
      "cell_type": "code",
      "execution_count": 70,
      "metadata": {
        "id": "8h5Nx0kEWZeP"
      },
      "outputs": [],
      "source": [
        "# Length of all the stories\n",
        "all_story_len = [len(data[0]) for data in all_data]"
      ]
    },
    {
      "cell_type": "code",
      "execution_count": 71,
      "metadata": {
        "id": "AQbepz8DWZeQ"
      },
      "outputs": [],
      "source": [
        "# Get maximum of the stories\n",
        "max_story_len = max(all_story_len)"
      ]
    },
    {
      "cell_type": "code",
      "execution_count": 72,
      "metadata": {
        "id": "oX6-NderWZeQ"
      },
      "outputs": [],
      "source": [
        "max_question_len = max([len(data[1]) for data in all_data])"
      ]
    },
    {
      "cell_type": "code",
      "execution_count": 73,
      "metadata": {
        "colab": {
          "base_uri": "https://localhost:8080/"
        },
        "id": "hPTYMO8AWZeQ",
        "outputId": "f934e56a-3c8f-470d-bbcf-9db4a079aded"
      },
      "outputs": [
        {
          "output_type": "stream",
          "name": "stdout",
          "text": [
            "Maximum length of the stories:  68\n",
            "Maximum length of the question:  4\n"
          ]
        }
      ],
      "source": [
        "print(\"Maximum length of the stories: \", max_story_len)\n",
        "print(\"Maximum length of the question: \", max_question_len)"
      ]
    },
    {
      "cell_type": "code",
      "execution_count": 74,
      "metadata": {
        "id": "jCs1iw03WZeQ"
      },
      "outputs": [],
      "source": [
        "from keras.utils import pad_sequences\n",
        "from keras.preprocessing.text import Tokenizer"
      ]
    },
    {
      "cell_type": "code",
      "execution_count": 75,
      "metadata": {
        "id": "WfUPAB5GWZeQ"
      },
      "outputs": [],
      "source": [
        "tokenizer = Tokenizer(filters=[])\n",
        "tokenizer.fit_on_texts(vocab)  # create a dictionary for the entire corpus"
      ]
    },
    {
      "cell_type": "code",
      "execution_count": 76,
      "metadata": {
        "colab": {
          "base_uri": "https://localhost:8080/"
        },
        "id": "SDsdpfo4WZeR",
        "outputId": "c0d58ff4-c224-43e0-8285-cfb6b2d8d53d"
      },
      "outputs": [
        {
          "output_type": "execute_result",
          "data": {
            "text/plain": [
              "{'the': 1,\n",
              " 'no': 2,\n",
              " 'bathroom': 3,\n",
              " 'garden': 4,\n",
              " 'john': 5,\n",
              " 'moved': 6,\n",
              " 'where': 7,\n",
              " 'went': 8,\n",
              " 'mary': 9,\n",
              " 'kitchen': 10,\n",
              " 'sandra': 11,\n",
              " 'is': 12,\n",
              " 'hallway': 13,\n",
              " 'travelled': 14,\n",
              " '?': 15,\n",
              " 'daniel': 16,\n",
              " 'back': 17,\n",
              " 'journeyed': 18,\n",
              " '.': 19,\n",
              " 'bedroom': 20,\n",
              " 'to': 21,\n",
              " 'office': 22,\n",
              " 'yes': 23}"
            ]
          },
          "metadata": {},
          "execution_count": 76
        }
      ],
      "source": [
        "tokenizer.word_index"
      ]
    },
    {
      "cell_type": "code",
      "execution_count": 77,
      "metadata": {
        "id": "XYe1zOuvWZeR"
      },
      "outputs": [],
      "source": [
        "train_story_text = []\n",
        "train_question_text = []\n",
        "train_answers = []"
      ]
    },
    {
      "cell_type": "code",
      "execution_count": 78,
      "metadata": {
        "id": "QvKDs9TRWZeR"
      },
      "outputs": [],
      "source": [
        "for story, question, answer in train_data:\n",
        "    train_story_text.append(story)\n",
        "    train_question_text.append(question)\n",
        "    train_answers.append(answer)"
      ]
    },
    {
      "cell_type": "code",
      "execution_count": 79,
      "metadata": {
        "colab": {
          "base_uri": "https://localhost:8080/"
        },
        "id": "gHNp3lyaWZeR",
        "outputId": "420902f3-66e1-48aa-f180-cf268d494d90"
      },
      "outputs": [
        {
          "output_type": "execute_result",
          "data": {
            "text/plain": [
              "[['Mary',\n",
              "  'moved',\n",
              "  'to',\n",
              "  'the',\n",
              "  'bathroom',\n",
              "  '.',\n",
              "  'John',\n",
              "  'went',\n",
              "  'to',\n",
              "  'the',\n",
              "  'hallway',\n",
              "  '.'],\n",
              " ['Mary',\n",
              "  'moved',\n",
              "  'to',\n",
              "  'the',\n",
              "  'bathroom',\n",
              "  '.',\n",
              "  'John',\n",
              "  'went',\n",
              "  'to',\n",
              "  'the',\n",
              "  'hallway',\n",
              "  '.',\n",
              "  'Daniel',\n",
              "  'went',\n",
              "  'back',\n",
              "  'to',\n",
              "  'the',\n",
              "  'hallway',\n",
              "  '.',\n",
              "  'Sandra',\n",
              "  'moved',\n",
              "  'to',\n",
              "  'the',\n",
              "  'garden',\n",
              "  '.']]"
            ]
          },
          "metadata": {},
          "execution_count": 79
        }
      ],
      "source": [
        "# Train_story_text is a list of lists of words\n",
        "train_story_text[:2]"
      ]
    },
    {
      "cell_type": "code",
      "execution_count": 80,
      "metadata": {
        "id": "3ZaEfVfwWZeR"
      },
      "outputs": [],
      "source": [
        "# transforms each text into a sequence of integers (word embedding)\n",
        "# Vectorization in machine learning refers to the process of converting data into arrays of numerical values, known as vectors. to make code efficient.\n",
        "\n",
        "train_story_seq = tokenizer.texts_to_sequences(train_story_text)"
      ]
    },
    {
      "cell_type": "code",
      "execution_count": 81,
      "metadata": {
        "colab": {
          "base_uri": "https://localhost:8080/"
        },
        "id": "A5jh0zD2WZeR",
        "outputId": "5f76dc81-4965-400a-9a77-31c04ec1e90b"
      },
      "outputs": [
        {
          "output_type": "stream",
          "name": "stdout",
          "text": [
            "10000\n",
            "10000\n"
          ]
        }
      ],
      "source": [
        "print(len(train_story_seq))\n",
        "print(len(train_story_text))"
      ]
    },
    {
      "cell_type": "code",
      "execution_count": 82,
      "metadata": {
        "colab": {
          "base_uri": "https://localhost:8080/"
        },
        "id": "MBI-yWv7WZeR",
        "outputId": "7f2e3741-b319-4f1b-e732-aedb5fe668a2"
      },
      "outputs": [
        {
          "output_type": "execute_result",
          "data": {
            "text/plain": [
              "[['Mary',\n",
              "  'moved',\n",
              "  'to',\n",
              "  'the',\n",
              "  'bathroom',\n",
              "  '.',\n",
              "  'John',\n",
              "  'went',\n",
              "  'to',\n",
              "  'the',\n",
              "  'hallway',\n",
              "  '.'],\n",
              " ['Mary',\n",
              "  'moved',\n",
              "  'to',\n",
              "  'the',\n",
              "  'bathroom',\n",
              "  '.',\n",
              "  'John',\n",
              "  'went',\n",
              "  'to',\n",
              "  'the',\n",
              "  'hallway',\n",
              "  '.',\n",
              "  'Daniel',\n",
              "  'went',\n",
              "  'back',\n",
              "  'to',\n",
              "  'the',\n",
              "  'hallway',\n",
              "  '.',\n",
              "  'Sandra',\n",
              "  'moved',\n",
              "  'to',\n",
              "  'the',\n",
              "  'garden',\n",
              "  '.']]"
            ]
          },
          "metadata": {},
          "execution_count": 82
        }
      ],
      "source": [
        "train_story_text[:2]"
      ]
    },
    {
      "cell_type": "code",
      "execution_count": 83,
      "metadata": {
        "colab": {
          "base_uri": "https://localhost:8080/"
        },
        "id": "Qz7--FajWZeS",
        "outputId": "3694e8c3-19ad-49ac-9851-297482b08d69"
      },
      "outputs": [
        {
          "output_type": "execute_result",
          "data": {
            "text/plain": [
              "[[9, 6, 21, 1, 3, 19, 5, 8, 21, 1, 13, 19],\n",
              " [9,\n",
              "  6,\n",
              "  21,\n",
              "  1,\n",
              "  3,\n",
              "  19,\n",
              "  5,\n",
              "  8,\n",
              "  21,\n",
              "  1,\n",
              "  13,\n",
              "  19,\n",
              "  16,\n",
              "  8,\n",
              "  17,\n",
              "  21,\n",
              "  1,\n",
              "  13,\n",
              "  19,\n",
              "  11,\n",
              "  6,\n",
              "  21,\n",
              "  1,\n",
              "  4,\n",
              "  19]]"
            ]
          },
          "metadata": {},
          "execution_count": 83
        }
      ],
      "source": [
        "# Word embedding result\n",
        "train_story_seq[:2]"
      ]
    },
    {
      "cell_type": "code",
      "execution_count": 134,
      "metadata": {
        "id": "b4z0GnoQWZeS"
      },
      "outputs": [],
      "source": [
        "# Create our own list of list of word indicies with padding.\n",
        "# any sequence that doesn't have the same length, you will pad your sequence to max_len, it will add 0's to it.\n",
        "# in order to make all sequences in a batch fit a given standard length is to be done.\n",
        "def vectorize_stories(data, word_index=tokenizer.word_index, max_story_len=max_story_len, max_question_len=max_question_len):\n",
        "    # Stories = X\n",
        "    X = []\n",
        "    \n",
        "    # Questions = Xq\n",
        "    Xq = []\n",
        "    \n",
        "    # Y Correct Answer ['yes', 'no']\n",
        "    Y = []\n",
        "    for story, query, answer in data:\n",
        "        \n",
        "        # for each story\n",
        "        # [23, 14, 15]\n",
        "        x = [word_index[word.lower()] for word in story] #word.lower() lowers a string\n",
        "        xq = [word_index[word.lower()] for word in query]\n",
        "        \n",
        "        y = np.zeros(len(word_index)+1)\n",
        "        y[word_index[answer]] = 1\n",
        "        \n",
        "        X.append(x)   # X holds list of lists of word indices for stories.\n",
        "        Xq.append(xq) # Xq holds list of lists for word indices for questions.\n",
        "        Y.append(y) # Y holds lists of lists of (38) biniary numbers, only 1 of them is 1.\n",
        "        \n",
        "    return (pad_sequences(X, maxlen=max_story_len), pad_sequences(Xq, maxlen=max_question_len), np.array(Y))"
      ]
    },
    {
      "cell_type": "code",
      "execution_count": 130,
      "metadata": {
        "id": "bO9Yeo30WZeS"
      },
      "outputs": [],
      "source": [
        "inputs_train, queries_train, answers_train = vectorize_stories(train_data)"
      ]
    },
    {
      "cell_type": "code",
      "execution_count": 131,
      "metadata": {
        "id": "XIBBlam0WZeS"
      },
      "outputs": [],
      "source": [
        "inputs_test, queries_test, answers_test = vectorize_stories(test_data)"
      ]
    },
    {
      "cell_type": "code",
      "execution_count": 87,
      "metadata": {
        "colab": {
          "base_uri": "https://localhost:8080/"
        },
        "id": "sBNH5j0NWZeS",
        "outputId": "b007f761-f62f-4894-8b50-7c52c2748e70"
      },
      "outputs": [
        {
          "output_type": "execute_result",
          "data": {
            "text/plain": [
              "array([[ 0,  0,  0, ...,  1,  3, 19],\n",
              "       [ 0,  0,  0, ...,  1, 20, 19],\n",
              "       [ 0,  0,  0, ...,  1, 10, 19],\n",
              "       ...,\n",
              "       [ 0,  0,  0, ...,  1, 20, 19],\n",
              "       [ 0,  0,  0, ...,  1,  3, 19],\n",
              "       [ 0,  0,  0, ...,  1,  4, 19]], dtype=int32)"
            ]
          },
          "metadata": {},
          "execution_count": 87
        }
      ],
      "source": [
        "inputs_test"
      ]
    },
    {
      "cell_type": "code",
      "execution_count": 88,
      "metadata": {
        "colab": {
          "base_uri": "https://localhost:8080/"
        },
        "id": "x4z1jVJ6WZeT",
        "outputId": "4ca0fd81-3340-4d61-d05a-cf290e7b63b0"
      },
      "outputs": [
        {
          "output_type": "execute_result",
          "data": {
            "text/plain": [
              "array([[0., 0., 0., ..., 0., 0., 0.],\n",
              "       [0., 0., 0., ..., 0., 0., 0.],\n",
              "       [0., 0., 0., ..., 0., 0., 0.],\n",
              "       ...,\n",
              "       [0., 0., 0., ..., 0., 1., 0.],\n",
              "       [0., 0., 0., ..., 0., 0., 0.],\n",
              "       [0., 0., 0., ..., 0., 0., 0.]])"
            ]
          },
          "metadata": {},
          "execution_count": 88
        }
      ],
      "source": [
        "answers_test"
      ]
    },
    {
      "cell_type": "code",
      "execution_count": 89,
      "metadata": {
        "colab": {
          "base_uri": "https://localhost:8080/"
        },
        "id": "sbno97uiWZeT",
        "outputId": "ed57aa1f-edd7-495e-bb7b-f5361f68ffbe"
      },
      "outputs": [
        {
          "output_type": "execute_result",
          "data": {
            "text/plain": [
              "23"
            ]
          },
          "metadata": {},
          "execution_count": 89
        }
      ],
      "source": [
        "tokenizer.word_index['yes']"
      ]
    },
    {
      "cell_type": "code",
      "execution_count": 90,
      "metadata": {
        "colab": {
          "base_uri": "https://localhost:8080/"
        },
        "id": "D8FJbVh8WZeT",
        "outputId": "e6effefb-f8cc-454a-d6d2-39646452045e"
      },
      "outputs": [
        {
          "output_type": "execute_result",
          "data": {
            "text/plain": [
              "2"
            ]
          },
          "metadata": {},
          "execution_count": 90
        }
      ],
      "source": [
        "tokenizer.word_index['no']"
      ]
    },
    {
      "cell_type": "code",
      "execution_count": 91,
      "metadata": {
        "colab": {
          "base_uri": "https://localhost:8080/"
        },
        "id": "-qKMJKRXWZeT",
        "outputId": "292c66f3-5c75-46b9-c4e7-d98e29a90a49"
      },
      "outputs": [
        {
          "output_type": "execute_result",
          "data": {
            "text/plain": [
              "array([  0.,   0.,   0., 149., 187.,   0.,   0.,   0.,   0.,   0., 157.,\n",
              "         0.,   0., 154.,   0.,   0.,   0.,   0.,   0.,   0., 171.,   0.,\n",
              "       182.,   0.])"
            ]
          },
          "metadata": {},
          "execution_count": 91
        }
      ],
      "source": [
        "sum(answers_test)"
      ]
    },
    {
      "cell_type": "code",
      "execution_count": 92,
      "metadata": {
        "id": "5Z43GzkAWZeT"
      },
      "outputs": [],
      "source": [
        "#Architecture of Model\n",
        "from keras.models import Sequential, Model\n",
        "from keras.layers import Embedding\n",
        "from keras.layers import Input, Activation, Dense, Permute, Dropout, add, dot, concatenate, LSTM"
      ]
    },
    {
      "cell_type": "code",
      "execution_count": 93,
      "metadata": {
        "colab": {
          "base_uri": "https://localhost:8080/"
        },
        "id": "pTf9X-DKWZeU",
        "outputId": "79cb3e61-4e8c-4ef1-8a6f-fdfceb794a77"
      },
      "outputs": [
        {
          "output_type": "execute_result",
          "data": {
            "text/plain": [
              "<KerasTensor: shape=(None, 4) dtype=float32 (created by layer 'input_2')>"
            ]
          },
          "metadata": {},
          "execution_count": 93
        }
      ],
      "source": [
        "# placeholders for inputs\n",
        "# Recall we technically have two inputs, stories and questions. So we need to use placeholders. Input() is used to instantiate a Keras tensor\n",
        "input_sequence = Input((max_story_len,))\n",
        "question = Input((max_question_len,))\n",
        "question"
      ]
    },
    {
      "cell_type": "code",
      "execution_count": 94,
      "metadata": {
        "id": "Kcaf9pQGWZeV"
      },
      "outputs": [],
      "source": [
        "# vocab_len\n",
        "vocab_size = len(vocab) + 1"
      ]
    },
    {
      "cell_type": "code",
      "execution_count": 95,
      "metadata": {
        "id": "Gtu8r06gWZeV"
      },
      "outputs": [],
      "source": [
        "# INPUT ENCODER M\n",
        "input_encoder_m = Sequential()\n",
        "input_encoder_m.add(Embedding(input_dim=vocab_size, output_dim=64))\n",
        "input_encoder_m.add(Dropout(0.3))\n",
        "\n",
        "# OUTPUT\n",
        "# (samples, story_maxlen, embedding_dim)"
      ]
    },
    {
      "cell_type": "code",
      "execution_count": 96,
      "metadata": {
        "id": "kxJjlVPSWZeV"
      },
      "outputs": [],
      "source": [
        "# INPUT ENCODER C\n",
        "input_encoder_c = Sequential()\n",
        "input_encoder_c.add(Embedding(input_dim=vocab_size, output_dim=max_question_len))\n",
        "input_encoder_c.add(Dropout(0.3))\n",
        "\n",
        "# OUTPUT\n",
        "# (samples, story_maxlen, max_question_len)"
      ]
    },
    {
      "cell_type": "code",
      "execution_count": 97,
      "metadata": {
        "id": "H4Ze62bhWZeV"
      },
      "outputs": [],
      "source": [
        "# question encoder\n",
        "question_encoder = Sequential()\n",
        "question_encoder.add(Embedding(input_dim=vocab_size, output_dim=64, input_length=max_question_len))\n",
        "question_encoder.add(Dropout(0.3))\n",
        "\n",
        "# OUTPUT\n",
        "# (samples, query_maxlen, embedding_dim)"
      ]
    },
    {
      "cell_type": "code",
      "execution_count": 98,
      "metadata": {
        "id": "7fwVh_tmWZeW"
      },
      "outputs": [],
      "source": [
        "# ENCODED <---- ENCODER(INPUT)\n",
        "# # encode input sequence and questions (which are indices) to sequences of dense vectors\n",
        "input_encoded_m = input_encoder_m(input_sequence)\n",
        "input_encoded_c = input_encoder_c(input_sequence)\n",
        "question_encoded = question_encoder(question)\n",
        "\n",
        "# input_encoded_m: (batch_size, story_maxlen, embedding_dim)\n",
        "# input_encoded_c: (batch_size, story_maxlen, query_maxlen)\n",
        "# question_encoded: (batch_size, query_maxlen, embedding_dim)"
      ]
    },
    {
      "cell_type": "code",
      "execution_count": 99,
      "metadata": {
        "colab": {
          "base_uri": "https://localhost:8080/"
        },
        "id": "gM2RhfOsWZeW",
        "outputId": "9894a7d8-b5dc-4543-98ac-d88d6c70fe79"
      },
      "outputs": [
        {
          "output_type": "stream",
          "name": "stdout",
          "text": [
            "(None, 68, 64)\n",
            "(None, 4, 64)\n"
          ]
        }
      ],
      "source": [
        "print(input_encoded_m.shape)\n",
        "print(question_encoded.shape)"
      ]
    },
    {
      "cell_type": "code",
      "execution_count": 100,
      "metadata": {
        "id": "PPZdqIldWZeW"
      },
      "outputs": [],
      "source": [
        "match = dot([input_encoded_m, question_encoded], axes=(2,2)) # why axes is (2,2) ==> dot product along the embedding dim (64 numbers dot 64 numbers)\n",
        "match = Activation('softmax')(match)\n",
        "\n",
        "# NOTE: match after dot: (batch_size, story_maxlen, query_maxlen)\n",
        "# match after Activation: (batch_size, story_maxlen, query_maxlen)"
      ]
    },
    {
      "cell_type": "code",
      "execution_count": 101,
      "metadata": {
        "id": "8AShHjaVWZeW"
      },
      "outputs": [],
      "source": [
        "response = add([match, input_encoded_c]) # (samples, story_maxlen, query_maxlen)\n",
        "response = Permute((2,1))(response) # (samples, query_maxlen, story_maxlen)\n",
        "# Permutes the dimensions of the input according to a given pattern.\n",
        "# Same as the input shape, but with the dimensions re-ordered according to the specified pattern\n",
        "\n",
        "# response after add: (batch_size, story_maxlen, query_maxlen)\n",
        "# response after Permute: (batch_size, query_maxlen, story_maxlen)"
      ]
    },
    {
      "cell_type": "code",
      "execution_count": 102,
      "metadata": {
        "id": "3ey_5x2YWZeX"
      },
      "outputs": [],
      "source": [
        "answer = concatenate([response, question_encoded])\n",
        "\n",
        "# Note: answer: (batch_size, query_maxlen, story_maxlen+embedding_dim)"
      ]
    },
    {
      "cell_type": "code",
      "execution_count": 103,
      "metadata": {
        "colab": {
          "base_uri": "https://localhost:8080/"
        },
        "id": "dO6s_BxQWZeX",
        "outputId": "5e154926-a40e-4a65-9b36-6cc92558087e"
      },
      "outputs": [
        {
          "output_type": "execute_result",
          "data": {
            "text/plain": [
              "<KerasTensor: shape=(None, 4, 132) dtype=float32 (created by layer 'concatenate')>"
            ]
          },
          "metadata": {},
          "execution_count": 103
        }
      ],
      "source": [
        "answer\n",
        "# Note: answer: (batch_size, query_maxlen, story_maxlen+embedding_dim)"
      ]
    },
    {
      "cell_type": "code",
      "execution_count": 104,
      "metadata": {
        "id": "EifU4cjfWZeX"
      },
      "outputs": [],
      "source": [
        "# Reduce with RNN (LSTM) : does its work\n",
        "answer = LSTM(32)(answer) #(samples, 32)"
      ]
    },
    {
      "cell_type": "code",
      "execution_count": 105,
      "metadata": {
        "colab": {
          "base_uri": "https://localhost:8080/"
        },
        "id": "-CEPyjA-WZeY",
        "outputId": "77d10fe3-4069-4095-c3a5-cb4a912b2702"
      },
      "outputs": [
        {
          "output_type": "stream",
          "name": "stdout",
          "text": [
            "(None, 32)\n"
          ]
        }
      ],
      "source": [
        "print(answer.shape)"
      ]
    },
    {
      "cell_type": "code",
      "execution_count": 106,
      "metadata": {
        "id": "BSMHZM1SWZeY"
      },
      "outputs": [],
      "source": [
        "# Regularization with Dropout\n",
        "answer = Dropout(0.5)(answer)"
      ]
    },
    {
      "cell_type": "code",
      "execution_count": 107,
      "metadata": {
        "id": "ItO2ZjsyWZeY"
      },
      "outputs": [],
      "source": [
        "answer = Dense(vocab_size)(answer)"
      ]
    },
    {
      "cell_type": "code",
      "execution_count": 108,
      "metadata": {
        "id": "fKn6_Fe-WZeZ"
      },
      "outputs": [],
      "source": [
        "# we output a probability distribution over the vocabulary\n",
        "answer = Activation('softmax')(answer)"
      ]
    },
    {
      "cell_type": "code",
      "execution_count": 109,
      "metadata": {
        "colab": {
          "base_uri": "https://localhost:8080/"
        },
        "id": "qtcAEDrvWZeZ",
        "outputId": "bf90713d-e800-4448-99e2-37212462dc08"
      },
      "outputs": [
        {
          "output_type": "execute_result",
          "data": {
            "text/plain": [
              "<KerasTensor: shape=(None, 24) dtype=float32 (created by layer 'activation_1')>"
            ]
          },
          "metadata": {},
          "execution_count": 109
        }
      ],
      "source": [
        "answer"
      ]
    },
    {
      "cell_type": "code",
      "execution_count": 110,
      "metadata": {
        "id": "o5f_YwMUWZeZ"
      },
      "outputs": [],
      "source": [
        "model = Model([input_sequence, question], answer)\n",
        "#creating deep models"
      ]
    },
    {
      "cell_type": "code",
      "execution_count": 111,
      "metadata": {
        "id": "wVV-CLuZWZea"
      },
      "outputs": [],
      "source": [
        "#model.compile(optimizer='rmsprop', loss='categorical_crossentropy', metrics=['accuracy'])\n",
        "model.compile(optimizer='adam', loss='categorical_crossentropy', metrics=['accuracy'])"
      ]
    },
    {
      "cell_type": "code",
      "execution_count": 112,
      "metadata": {
        "colab": {
          "base_uri": "https://localhost:8080/"
        },
        "id": "CIgdWzNIWZea",
        "outputId": "cd94dfe9-90e0-4344-e3a1-2eca63990ec6"
      },
      "outputs": [
        {
          "output_type": "stream",
          "name": "stdout",
          "text": [
            "Model: \"model\"\n",
            "__________________________________________________________________________________________________\n",
            " Layer (type)                   Output Shape         Param #     Connected to                     \n",
            "==================================================================================================\n",
            " input_1 (InputLayer)           [(None, 68)]         0           []                               \n",
            "                                                                                                  \n",
            " input_2 (InputLayer)           [(None, 4)]          0           []                               \n",
            "                                                                                                  \n",
            " sequential (Sequential)        (None, None, 64)     1536        ['input_1[0][0]']                \n",
            "                                                                                                  \n",
            " sequential_2 (Sequential)      (None, 4, 64)        1536        ['input_2[0][0]']                \n",
            "                                                                                                  \n",
            " dot (Dot)                      (None, 68, 4)        0           ['sequential[0][0]',             \n",
            "                                                                  'sequential_2[0][0]']           \n",
            "                                                                                                  \n",
            " activation (Activation)        (None, 68, 4)        0           ['dot[0][0]']                    \n",
            "                                                                                                  \n",
            " sequential_1 (Sequential)      (None, None, 4)      96          ['input_1[0][0]']                \n",
            "                                                                                                  \n",
            " add (Add)                      (None, 68, 4)        0           ['activation[0][0]',             \n",
            "                                                                  'sequential_1[0][0]']           \n",
            "                                                                                                  \n",
            " permute (Permute)              (None, 4, 68)        0           ['add[0][0]']                    \n",
            "                                                                                                  \n",
            " concatenate (Concatenate)      (None, 4, 132)       0           ['permute[0][0]',                \n",
            "                                                                  'sequential_2[0][0]']           \n",
            "                                                                                                  \n",
            " lstm (LSTM)                    (None, 32)           21120       ['concatenate[0][0]']            \n",
            "                                                                                                  \n",
            " dropout_3 (Dropout)            (None, 32)           0           ['lstm[0][0]']                   \n",
            "                                                                                                  \n",
            " dense (Dense)                  (None, 24)           792         ['dropout_3[0][0]']              \n",
            "                                                                                                  \n",
            " activation_1 (Activation)      (None, 24)           0           ['dense[0][0]']                  \n",
            "                                                                                                  \n",
            "==================================================================================================\n",
            "Total params: 25,080\n",
            "Trainable params: 25,080\n",
            "Non-trainable params: 0\n",
            "__________________________________________________________________________________________________\n"
          ]
        }
      ],
      "source": [
        "model.summary()"
      ]
    },
    {
      "cell_type": "code",
      "execution_count": 113,
      "metadata": {
        "id": "FCgADTscWZea",
        "colab": {
          "base_uri": "https://localhost:8080/"
        },
        "outputId": "a2599e40-34b4-489e-8c0f-52214fc85726"
      },
      "outputs": [
        {
          "output_type": "stream",
          "name": "stdout",
          "text": [
            "Epoch 1/100\n",
            "313/313 [==============================] - 8s 13ms/step - loss: 2.0943 - accuracy: 0.1660 - val_loss: 1.8140 - val_accuracy: 0.1490\n",
            "Epoch 2/100\n",
            "313/313 [==============================] - 4s 11ms/step - loss: 1.8529 - accuracy: 0.1795 - val_loss: 1.7733 - val_accuracy: 0.2300\n",
            "Epoch 3/100\n",
            "313/313 [==============================] - 5s 15ms/step - loss: 1.7556 - accuracy: 0.2389 - val_loss: 1.6437 - val_accuracy: 0.3060\n",
            "Epoch 4/100\n",
            "313/313 [==============================] - 3s 11ms/step - loss: 1.6134 - accuracy: 0.3650 - val_loss: 1.5060 - val_accuracy: 0.4580\n",
            "Epoch 5/100\n",
            "313/313 [==============================] - 3s 11ms/step - loss: 1.5600 - accuracy: 0.4026 - val_loss: 1.4725 - val_accuracy: 0.4580\n",
            "Epoch 6/100\n",
            "313/313 [==============================] - 5s 15ms/step - loss: 1.5360 - accuracy: 0.4210 - val_loss: 1.4595 - val_accuracy: 0.4540\n",
            "Epoch 7/100\n",
            "313/313 [==============================] - 3s 11ms/step - loss: 1.5081 - accuracy: 0.4328 - val_loss: 1.4378 - val_accuracy: 0.4840\n",
            "Epoch 8/100\n",
            "313/313 [==============================] - 5s 15ms/step - loss: 1.4814 - accuracy: 0.4522 - val_loss: 1.4046 - val_accuracy: 0.4930\n",
            "Epoch 9/100\n",
            "313/313 [==============================] - 5s 16ms/step - loss: 1.4475 - accuracy: 0.4628 - val_loss: 1.4077 - val_accuracy: 0.4780\n",
            "Epoch 10/100\n",
            "313/313 [==============================] - 3s 11ms/step - loss: 1.4222 - accuracy: 0.4713 - val_loss: 1.3539 - val_accuracy: 0.4930\n",
            "Epoch 11/100\n",
            "313/313 [==============================] - 3s 11ms/step - loss: 1.4049 - accuracy: 0.4681 - val_loss: 1.3399 - val_accuracy: 0.5090\n",
            "Epoch 12/100\n",
            "313/313 [==============================] - 4s 12ms/step - loss: 1.3902 - accuracy: 0.4811 - val_loss: 1.3140 - val_accuracy: 0.5170\n",
            "Epoch 13/100\n",
            "313/313 [==============================] - 6s 18ms/step - loss: 1.3896 - accuracy: 0.4774 - val_loss: 1.3150 - val_accuracy: 0.5070\n",
            "Epoch 14/100\n",
            "313/313 [==============================] - 3s 11ms/step - loss: 1.3781 - accuracy: 0.4825 - val_loss: 1.2964 - val_accuracy: 0.5290\n",
            "Epoch 15/100\n",
            "313/313 [==============================] - 3s 11ms/step - loss: 1.3633 - accuracy: 0.4835 - val_loss: 1.3063 - val_accuracy: 0.5180\n",
            "Epoch 16/100\n",
            "313/313 [==============================] - 4s 14ms/step - loss: 1.3604 - accuracy: 0.4810 - val_loss: 1.2775 - val_accuracy: 0.5180\n",
            "Epoch 17/100\n",
            "313/313 [==============================] - 4s 12ms/step - loss: 1.3467 - accuracy: 0.4862 - val_loss: 1.2730 - val_accuracy: 0.5240\n",
            "Epoch 18/100\n",
            "313/313 [==============================] - 4s 11ms/step - loss: 1.3349 - accuracy: 0.4885 - val_loss: 1.2597 - val_accuracy: 0.5250\n",
            "Epoch 19/100\n",
            "313/313 [==============================] - 4s 12ms/step - loss: 1.3257 - accuracy: 0.4885 - val_loss: 1.2565 - val_accuracy: 0.5140\n",
            "Epoch 20/100\n",
            "313/313 [==============================] - 4s 14ms/step - loss: 1.3275 - accuracy: 0.4964 - val_loss: 1.2452 - val_accuracy: 0.5140\n",
            "Epoch 21/100\n",
            "313/313 [==============================] - 4s 11ms/step - loss: 1.3144 - accuracy: 0.4940 - val_loss: 1.2509 - val_accuracy: 0.5230\n",
            "Epoch 22/100\n",
            "313/313 [==============================] - 4s 11ms/step - loss: 1.3175 - accuracy: 0.4915 - val_loss: 1.2390 - val_accuracy: 0.5190\n",
            "Epoch 23/100\n",
            "313/313 [==============================] - 5s 15ms/step - loss: 1.3018 - accuracy: 0.4994 - val_loss: 1.2375 - val_accuracy: 0.5220\n",
            "Epoch 24/100\n",
            "313/313 [==============================] - 3s 11ms/step - loss: 1.3095 - accuracy: 0.4918 - val_loss: 1.2387 - val_accuracy: 0.5140\n",
            "Epoch 25/100\n",
            "313/313 [==============================] - 3s 11ms/step - loss: 1.2926 - accuracy: 0.5010 - val_loss: 1.2313 - val_accuracy: 0.5280\n",
            "Epoch 26/100\n",
            "313/313 [==============================] - 4s 13ms/step - loss: 1.2907 - accuracy: 0.5038 - val_loss: 1.2384 - val_accuracy: 0.5200\n",
            "Epoch 27/100\n",
            "313/313 [==============================] - 4s 12ms/step - loss: 1.2793 - accuracy: 0.5089 - val_loss: 1.2285 - val_accuracy: 0.5120\n",
            "Epoch 28/100\n",
            "313/313 [==============================] - 3s 11ms/step - loss: 1.2827 - accuracy: 0.5073 - val_loss: 1.2202 - val_accuracy: 0.5250\n",
            "Epoch 29/100\n",
            "313/313 [==============================] - 4s 11ms/step - loss: 1.2663 - accuracy: 0.5120 - val_loss: 1.2264 - val_accuracy: 0.5200\n",
            "Epoch 30/100\n",
            "313/313 [==============================] - 5s 15ms/step - loss: 1.2756 - accuracy: 0.5048 - val_loss: 1.2124 - val_accuracy: 0.5190\n",
            "Epoch 31/100\n",
            "313/313 [==============================] - 3s 11ms/step - loss: 1.2686 - accuracy: 0.5123 - val_loss: 1.2130 - val_accuracy: 0.5120\n",
            "Epoch 32/100\n",
            "313/313 [==============================] - 4s 11ms/step - loss: 1.2551 - accuracy: 0.5153 - val_loss: 1.2210 - val_accuracy: 0.5220\n",
            "Epoch 33/100\n",
            "313/313 [==============================] - 5s 14ms/step - loss: 1.2553 - accuracy: 0.5103 - val_loss: 1.2060 - val_accuracy: 0.5280\n",
            "Epoch 34/100\n",
            "313/313 [==============================] - 4s 12ms/step - loss: 1.2407 - accuracy: 0.5198 - val_loss: 1.2157 - val_accuracy: 0.5210\n",
            "Epoch 35/100\n",
            "313/313 [==============================] - 4s 11ms/step - loss: 1.2346 - accuracy: 0.5191 - val_loss: 1.1972 - val_accuracy: 0.5170\n",
            "Epoch 36/100\n",
            "313/313 [==============================] - 4s 12ms/step - loss: 1.2309 - accuracy: 0.5239 - val_loss: 1.1818 - val_accuracy: 0.5360\n",
            "Epoch 37/100\n",
            "313/313 [==============================] - 4s 14ms/step - loss: 1.2183 - accuracy: 0.5235 - val_loss: 1.1744 - val_accuracy: 0.5430\n",
            "Epoch 38/100\n",
            "313/313 [==============================] - 4s 11ms/step - loss: 1.1907 - accuracy: 0.5413 - val_loss: 1.1387 - val_accuracy: 0.5660\n",
            "Epoch 39/100\n",
            "313/313 [==============================] - 4s 11ms/step - loss: 1.1515 - accuracy: 0.5620 - val_loss: 1.0384 - val_accuracy: 0.6270\n",
            "Epoch 40/100\n",
            "313/313 [==============================] - 5s 15ms/step - loss: 1.0237 - accuracy: 0.6308 - val_loss: 0.8781 - val_accuracy: 0.7090\n",
            "Epoch 41/100\n",
            "313/313 [==============================] - 3s 11ms/step - loss: 0.8791 - accuracy: 0.6967 - val_loss: 0.7563 - val_accuracy: 0.7410\n",
            "Epoch 42/100\n",
            "313/313 [==============================] - 4s 11ms/step - loss: 0.7924 - accuracy: 0.7218 - val_loss: 0.6985 - val_accuracy: 0.7560\n",
            "Epoch 43/100\n",
            "313/313 [==============================] - 4s 14ms/step - loss: 0.7300 - accuracy: 0.7463 - val_loss: 0.6323 - val_accuracy: 0.7640\n",
            "Epoch 44/100\n",
            "313/313 [==============================] - 4s 12ms/step - loss: 0.6797 - accuracy: 0.7644 - val_loss: 0.6203 - val_accuracy: 0.7850\n",
            "Epoch 45/100\n",
            "313/313 [==============================] - 3s 11ms/step - loss: 0.6378 - accuracy: 0.7794 - val_loss: 0.5492 - val_accuracy: 0.8020\n",
            "Epoch 46/100\n",
            "313/313 [==============================] - 4s 11ms/step - loss: 0.5942 - accuracy: 0.7878 - val_loss: 0.5173 - val_accuracy: 0.8040\n",
            "Epoch 47/100\n",
            "313/313 [==============================] - 5s 15ms/step - loss: 0.5579 - accuracy: 0.8003 - val_loss: 0.4863 - val_accuracy: 0.8300\n",
            "Epoch 48/100\n",
            "313/313 [==============================] - 4s 11ms/step - loss: 0.5205 - accuracy: 0.8126 - val_loss: 0.4423 - val_accuracy: 0.8370\n",
            "Epoch 49/100\n",
            "313/313 [==============================] - 4s 11ms/step - loss: 0.4885 - accuracy: 0.8258 - val_loss: 0.4194 - val_accuracy: 0.8460\n",
            "Epoch 50/100\n",
            "313/313 [==============================] - 5s 15ms/step - loss: 0.4795 - accuracy: 0.8268 - val_loss: 0.4174 - val_accuracy: 0.8470\n",
            "Epoch 51/100\n",
            "313/313 [==============================] - 4s 11ms/step - loss: 0.4512 - accuracy: 0.8344 - val_loss: 0.3946 - val_accuracy: 0.8580\n",
            "Epoch 52/100\n",
            "313/313 [==============================] - 4s 11ms/step - loss: 0.4315 - accuracy: 0.8494 - val_loss: 0.3831 - val_accuracy: 0.8510\n",
            "Epoch 53/100\n",
            "313/313 [==============================] - 4s 13ms/step - loss: 0.4077 - accuracy: 0.8521 - val_loss: 0.3672 - val_accuracy: 0.8710\n",
            "Epoch 54/100\n",
            "313/313 [==============================] - 4s 13ms/step - loss: 0.3939 - accuracy: 0.8556 - val_loss: 0.3401 - val_accuracy: 0.8790\n",
            "Epoch 55/100\n",
            "313/313 [==============================] - 4s 11ms/step - loss: 0.3812 - accuracy: 0.8623 - val_loss: 0.3376 - val_accuracy: 0.8800\n",
            "Epoch 56/100\n",
            "313/313 [==============================] - 4s 11ms/step - loss: 0.3678 - accuracy: 0.8678 - val_loss: 0.3339 - val_accuracy: 0.8820\n",
            "Epoch 57/100\n",
            "313/313 [==============================] - 5s 15ms/step - loss: 0.3528 - accuracy: 0.8753 - val_loss: 0.3400 - val_accuracy: 0.8780\n",
            "Epoch 58/100\n",
            "313/313 [==============================] - 4s 11ms/step - loss: 0.3423 - accuracy: 0.8760 - val_loss: 0.3161 - val_accuracy: 0.8910\n",
            "Epoch 59/100\n",
            "313/313 [==============================] - 4s 11ms/step - loss: 0.3322 - accuracy: 0.8786 - val_loss: 0.3031 - val_accuracy: 0.8900\n",
            "Epoch 60/100\n",
            "313/313 [==============================] - 5s 15ms/step - loss: 0.3223 - accuracy: 0.8832 - val_loss: 0.2885 - val_accuracy: 0.8950\n",
            "Epoch 61/100\n",
            "313/313 [==============================] - 4s 11ms/step - loss: 0.3114 - accuracy: 0.8857 - val_loss: 0.2856 - val_accuracy: 0.9010\n",
            "Epoch 62/100\n",
            "313/313 [==============================] - 4s 11ms/step - loss: 0.2979 - accuracy: 0.8938 - val_loss: 0.3150 - val_accuracy: 0.8940\n",
            "Epoch 63/100\n",
            "313/313 [==============================] - 4s 12ms/step - loss: 0.2896 - accuracy: 0.8939 - val_loss: 0.2782 - val_accuracy: 0.8990\n",
            "Epoch 64/100\n",
            "313/313 [==============================] - 4s 14ms/step - loss: 0.2847 - accuracy: 0.8982 - val_loss: 0.2684 - val_accuracy: 0.9070\n",
            "Epoch 65/100\n",
            "313/313 [==============================] - 4s 11ms/step - loss: 0.2825 - accuracy: 0.8970 - val_loss: 0.2636 - val_accuracy: 0.9090\n",
            "Epoch 66/100\n",
            "313/313 [==============================] - 4s 11ms/step - loss: 0.2691 - accuracy: 0.9024 - val_loss: 0.2765 - val_accuracy: 0.9000\n",
            "Epoch 67/100\n",
            "313/313 [==============================] - 6s 18ms/step - loss: 0.2617 - accuracy: 0.9064 - val_loss: 0.2535 - val_accuracy: 0.9040\n",
            "Epoch 68/100\n",
            "313/313 [==============================] - 7s 22ms/step - loss: 0.2699 - accuracy: 0.9044 - val_loss: 0.2382 - val_accuracy: 0.9200\n",
            "Epoch 69/100\n",
            "313/313 [==============================] - 5s 16ms/step - loss: 0.2476 - accuracy: 0.9111 - val_loss: 0.2286 - val_accuracy: 0.9240\n",
            "Epoch 70/100\n",
            "313/313 [==============================] - 4s 13ms/step - loss: 0.2466 - accuracy: 0.9107 - val_loss: 0.2224 - val_accuracy: 0.9270\n",
            "Epoch 71/100\n",
            "313/313 [==============================] - 5s 15ms/step - loss: 0.2412 - accuracy: 0.9141 - val_loss: 0.2158 - val_accuracy: 0.9260\n",
            "Epoch 72/100\n",
            "313/313 [==============================] - 6s 20ms/step - loss: 0.2305 - accuracy: 0.9209 - val_loss: 0.2156 - val_accuracy: 0.9240\n",
            "Epoch 73/100\n",
            "313/313 [==============================] - 4s 11ms/step - loss: 0.2261 - accuracy: 0.9204 - val_loss: 0.2214 - val_accuracy: 0.9260\n",
            "Epoch 74/100\n",
            "313/313 [==============================] - 4s 12ms/step - loss: 0.2192 - accuracy: 0.9184 - val_loss: 0.2128 - val_accuracy: 0.9270\n",
            "Epoch 75/100\n",
            "313/313 [==============================] - 6s 21ms/step - loss: 0.2222 - accuracy: 0.9237 - val_loss: 0.2186 - val_accuracy: 0.9210\n",
            "Epoch 76/100\n",
            "313/313 [==============================] - 7s 22ms/step - loss: 0.2067 - accuracy: 0.9263 - val_loss: 0.2092 - val_accuracy: 0.9320\n",
            "Epoch 77/100\n",
            "313/313 [==============================] - 6s 19ms/step - loss: 0.2034 - accuracy: 0.9280 - val_loss: 0.1836 - val_accuracy: 0.9420\n",
            "Epoch 78/100\n",
            "313/313 [==============================] - 4s 12ms/step - loss: 0.1892 - accuracy: 0.9320 - val_loss: 0.1933 - val_accuracy: 0.9360\n",
            "Epoch 79/100\n",
            "313/313 [==============================] - 5s 15ms/step - loss: 0.1969 - accuracy: 0.9285 - val_loss: 0.1841 - val_accuracy: 0.9380\n",
            "Epoch 80/100\n",
            "313/313 [==============================] - 5s 17ms/step - loss: 0.1872 - accuracy: 0.9312 - val_loss: 0.1711 - val_accuracy: 0.9410\n",
            "Epoch 81/100\n",
            "313/313 [==============================] - 5s 15ms/step - loss: 0.1794 - accuracy: 0.9343 - val_loss: 0.1759 - val_accuracy: 0.9420\n",
            "Epoch 82/100\n",
            "313/313 [==============================] - 6s 18ms/step - loss: 0.1849 - accuracy: 0.9335 - val_loss: 0.1880 - val_accuracy: 0.9400\n",
            "Epoch 83/100\n",
            "313/313 [==============================] - 4s 14ms/step - loss: 0.1802 - accuracy: 0.9375 - val_loss: 0.1861 - val_accuracy: 0.9320\n",
            "Epoch 84/100\n",
            "313/313 [==============================] - 4s 11ms/step - loss: 0.1650 - accuracy: 0.9427 - val_loss: 0.1525 - val_accuracy: 0.9530\n",
            "Epoch 85/100\n",
            "313/313 [==============================] - 4s 14ms/step - loss: 0.1656 - accuracy: 0.9426 - val_loss: 0.1744 - val_accuracy: 0.9390\n",
            "Epoch 86/100\n",
            "313/313 [==============================] - 4s 12ms/step - loss: 0.1573 - accuracy: 0.9467 - val_loss: 0.1732 - val_accuracy: 0.9440\n",
            "Epoch 87/100\n",
            "313/313 [==============================] - 3s 11ms/step - loss: 0.1540 - accuracy: 0.9446 - val_loss: 0.1568 - val_accuracy: 0.9430\n",
            "Epoch 88/100\n",
            "313/313 [==============================] - 4s 11ms/step - loss: 0.1588 - accuracy: 0.9427 - val_loss: 0.1459 - val_accuracy: 0.9480\n",
            "Epoch 89/100\n",
            "313/313 [==============================] - 5s 15ms/step - loss: 0.1465 - accuracy: 0.9480 - val_loss: 0.1560 - val_accuracy: 0.9510\n",
            "Epoch 90/100\n",
            "313/313 [==============================] - 4s 11ms/step - loss: 0.1466 - accuracy: 0.9481 - val_loss: 0.1495 - val_accuracy: 0.9480\n",
            "Epoch 91/100\n",
            "313/313 [==============================] - 4s 11ms/step - loss: 0.1436 - accuracy: 0.9508 - val_loss: 0.1438 - val_accuracy: 0.9470\n",
            "Epoch 92/100\n",
            "313/313 [==============================] - 5s 15ms/step - loss: 0.1553 - accuracy: 0.9478 - val_loss: 0.1378 - val_accuracy: 0.9510\n",
            "Epoch 93/100\n",
            "313/313 [==============================] - 4s 11ms/step - loss: 0.1479 - accuracy: 0.9489 - val_loss: 0.1658 - val_accuracy: 0.9460\n",
            "Epoch 94/100\n",
            "313/313 [==============================] - 3s 11ms/step - loss: 0.1358 - accuracy: 0.9514 - val_loss: 0.1569 - val_accuracy: 0.9480\n",
            "Epoch 95/100\n",
            "313/313 [==============================] - 4s 12ms/step - loss: 0.1318 - accuracy: 0.9533 - val_loss: 0.1378 - val_accuracy: 0.9530\n",
            "Epoch 96/100\n",
            "313/313 [==============================] - 5s 17ms/step - loss: 0.1356 - accuracy: 0.9525 - val_loss: 0.1294 - val_accuracy: 0.9550\n",
            "Epoch 97/100\n",
            "313/313 [==============================] - 4s 14ms/step - loss: 0.1392 - accuracy: 0.9490 - val_loss: 0.1325 - val_accuracy: 0.9560\n",
            "Epoch 98/100\n",
            "313/313 [==============================] - 6s 18ms/step - loss: 0.1261 - accuracy: 0.9543 - val_loss: 0.1521 - val_accuracy: 0.9460\n",
            "Epoch 99/100\n",
            "313/313 [==============================] - 6s 20ms/step - loss: 0.1188 - accuracy: 0.9560 - val_loss: 0.1241 - val_accuracy: 0.9590\n",
            "Epoch 100/100\n",
            "313/313 [==============================] - 4s 11ms/step - loss: 0.1213 - accuracy: 0.9587 - val_loss: 0.1345 - val_accuracy: 0.9580\n"
          ]
        }
      ],
      "source": [
        "history = model.fit([inputs_train, queries_train], answers_train, batch_size=32, epochs=100, validation_data=([inputs_test, queries_test], answers_test))"
      ]
    },
    {
      "cell_type": "code",
      "execution_count": 114,
      "metadata": {
        "id": "B-sbqjuJWZeb",
        "colab": {
          "base_uri": "https://localhost:8080/",
          "height": 489
        },
        "outputId": "9ea4fcaa-95cd-4424-be37-ef5620d6e2c9"
      },
      "outputs": [
        {
          "output_type": "stream",
          "name": "stdout",
          "text": [
            "dict_keys(['loss', 'accuracy', 'val_loss', 'val_accuracy'])\n"
          ]
        },
        {
          "output_type": "display_data",
          "data": {
            "text/plain": [
              "<Figure size 640x480 with 1 Axes>"
            ],
            "image/png": "[encoded data removed]"
          },
          "metadata": {}
        }
      ],
      "source": [
        "import matplotlib.pyplot as plt\n",
        "%matplotlib inline\n",
        "print(history.history.keys())\n",
        "# summarize history for accuracy\n",
        "plt.plot(history.history['accuracy'])\n",
        "plt.plot(history.history['val_accuracy'])\n",
        "plt.title('model accuracy')\n",
        "plt.ylabel('accuracy')\n",
        "plt.xlabel('epoch')\n",
        "plt.legend(['train', 'test'], loc='upper left')\n",
        "plt.show()"
      ]
    },
    {
      "cell_type": "code",
      "execution_count": 115,
      "metadata": {
        "id": "DJJcb3eiWZeb"
      },
      "outputs": [],
      "source": [
        "model.save('mybrandnewmodel.h5')"
      ]
    },
    {
      "cell_type": "code",
      "execution_count": 116,
      "metadata": {
        "id": "h2Xx8pPmWZeb",
        "colab": {
          "base_uri": "https://localhost:8080/"
        },
        "outputId": "ad59a4e3-0396-4178-973e-4d12d5680923"
      },
      "outputs": [
        {
          "output_type": "stream",
          "name": "stdout",
          "text": [
            "32/32 [==============================] - 1s 3ms/step\n"
          ]
        }
      ],
      "source": [
        "pred_result = model.predict(([inputs_test, queries_test]))"
      ]
    },
    {
      "cell_type": "code",
      "execution_count": 117,
      "metadata": {
        "id": "q27dWfJsWZeb",
        "colab": {
          "base_uri": "https://localhost:8080/"
        },
        "outputId": "e8d8d9bf-2f4a-4be9-c4ac-c0f83ad54e59"
      },
      "outputs": [
        {
          "output_type": "execute_result",
          "data": {
            "text/plain": [
              "(1000, 24)"
            ]
          },
          "metadata": {},
          "execution_count": 117
        }
      ],
      "source": [
        "pred_result.shape"
      ]
    },
    {
      "cell_type": "code",
      "execution_count": 118,
      "metadata": {
        "id": "DdNsXXgtWZec",
        "colab": {
          "base_uri": "https://localhost:8080/"
        },
        "outputId": "60e74bea-49a7-480b-9845-54f43c77acfa"
      },
      "outputs": [
        {
          "output_type": "execute_result",
          "data": {
            "text/plain": [
              "array([3.1504215e-15, 3.5272553e-15, 3.8099169e-15, 3.4767931e-05,\n",
              "       8.1328642e-07, 2.9902442e-15, 2.5731832e-15, 2.8998366e-15,\n",
              "       2.7468196e-15, 4.3525063e-15, 7.8504842e-10, 3.6281610e-15,\n",
              "       2.7918642e-15, 9.9996096e-01, 2.9918186e-15, 4.1651850e-15,\n",
              "       3.1772267e-15, 2.9632641e-15, 3.3961161e-15, 2.9229148e-15,\n",
              "       3.3056333e-06, 2.9486276e-15, 6.5802460e-08, 3.1249868e-15],\n",
              "      dtype=float32)"
            ]
          },
          "metadata": {},
          "execution_count": 118
        }
      ],
      "source": [
        "pred_result[0]"
      ]
    },
    {
      "cell_type": "code",
      "execution_count": 119,
      "metadata": {
        "id": "y6uH3nxtWZec"
      },
      "outputs": [],
      "source": [
        "index_word = {index: word for word, index in tokenizer.word_index.items()}"
      ]
    },
    {
      "cell_type": "code",
      "execution_count": 120,
      "metadata": {
        "id": "8tDlKW-cWZec",
        "colab": {
          "base_uri": "https://localhost:8080/"
        },
        "outputId": "e94dc209-416e-4a5b-8603-8999ab29abd2"
      },
      "outputs": [
        {
          "output_type": "execute_result",
          "data": {
            "text/plain": [
              "['hallway',\n",
              " 'bathroom',\n",
              " 'kitchen',\n",
              " 'hallway',\n",
              " 'kitchen',\n",
              " 'hallway',\n",
              " 'garden',\n",
              " 'hallway',\n",
              " 'office',\n",
              " 'office',\n",
              " 'kitchen',\n",
              " 'garden',\n",
              " 'office',\n",
              " 'bedroom',\n",
              " 'bedroom',\n",
              " 'kitchen',\n",
              " 'garden',\n",
              " 'kitchen',\n",
              " 'office',\n",
              " 'bathroom',\n",
              " 'hallway',\n",
              " 'office',\n",
              " 'office',\n",
              " 'hallway',\n",
              " 'bedroom',\n",
              " 'bedroom',\n",
              " 'bedroom',\n",
              " 'kitchen',\n",
              " 'kitchen',\n",
              " 'office',\n",
              " 'hallway',\n",
              " 'office',\n",
              " 'kitchen',\n",
              " 'kitchen',\n",
              " 'bathroom',\n",
              " 'office',\n",
              " 'bathroom',\n",
              " 'garden',\n",
              " 'kitchen',\n",
              " 'bedroom',\n",
              " 'bathroom',\n",
              " 'garden',\n",
              " 'hallway',\n",
              " 'hallway',\n",
              " 'garden',\n",
              " 'kitchen',\n",
              " 'hallway',\n",
              " 'bathroom',\n",
              " 'office',\n",
              " 'bedroom',\n",
              " 'bedroom',\n",
              " 'office',\n",
              " 'garden',\n",
              " 'garden',\n",
              " 'garden',\n",
              " 'bedroom',\n",
              " 'kitchen',\n",
              " 'hallway',\n",
              " 'bedroom',\n",
              " 'hallway',\n",
              " 'hallway',\n",
              " 'office',\n",
              " 'bathroom',\n",
              " 'garden',\n",
              " 'garden',\n",
              " 'kitchen',\n",
              " 'kitchen',\n",
              " 'bathroom',\n",
              " 'office',\n",
              " 'office',\n",
              " 'garden',\n",
              " 'hallway',\n",
              " 'garden',\n",
              " 'bedroom',\n",
              " 'bathroom',\n",
              " 'kitchen',\n",
              " 'kitchen',\n",
              " 'kitchen',\n",
              " 'hallway',\n",
              " 'office',\n",
              " 'garden',\n",
              " 'bathroom',\n",
              " 'bedroom',\n",
              " 'kitchen',\n",
              " 'office',\n",
              " 'garden',\n",
              " 'garden',\n",
              " 'hallway',\n",
              " 'kitchen',\n",
              " 'kitchen',\n",
              " 'bathroom',\n",
              " 'bathroom',\n",
              " 'hallway',\n",
              " 'bathroom',\n",
              " 'bathroom',\n",
              " 'kitchen',\n",
              " 'kitchen',\n",
              " 'kitchen',\n",
              " 'bedroom',\n",
              " 'bedroom',\n",
              " 'bedroom',\n",
              " 'bathroom',\n",
              " 'office',\n",
              " 'garden',\n",
              " 'garden',\n",
              " 'hallway',\n",
              " 'bedroom',\n",
              " 'bathroom',\n",
              " 'office',\n",
              " 'bedroom',\n",
              " 'bathroom',\n",
              " 'bathroom',\n",
              " 'kitchen',\n",
              " 'hallway',\n",
              " 'kitchen',\n",
              " 'garden',\n",
              " 'office',\n",
              " 'kitchen',\n",
              " 'bathroom',\n",
              " 'office',\n",
              " 'bedroom',\n",
              " 'bathroom',\n",
              " 'bathroom',\n",
              " 'hallway',\n",
              " 'garden',\n",
              " 'office',\n",
              " 'garden',\n",
              " 'garden',\n",
              " 'garden',\n",
              " 'bathroom',\n",
              " 'garden',\n",
              " 'garden',\n",
              " 'bathroom',\n",
              " 'garden',\n",
              " 'kitchen',\n",
              " 'bathroom',\n",
              " 'office',\n",
              " 'kitchen',\n",
              " 'bathroom',\n",
              " 'bathroom',\n",
              " 'office',\n",
              " 'hallway',\n",
              " 'hallway',\n",
              " 'office',\n",
              " 'bedroom',\n",
              " 'kitchen',\n",
              " 'kitchen',\n",
              " 'kitchen',\n",
              " 'kitchen',\n",
              " 'kitchen',\n",
              " 'garden',\n",
              " 'garden',\n",
              " 'bathroom',\n",
              " 'office',\n",
              " 'bedroom',\n",
              " 'bathroom',\n",
              " 'garden',\n",
              " 'bedroom',\n",
              " 'office',\n",
              " 'hallway',\n",
              " 'bedroom',\n",
              " 'bedroom',\n",
              " 'bedroom',\n",
              " 'garden',\n",
              " 'bathroom',\n",
              " 'garden',\n",
              " 'garden',\n",
              " 'garden',\n",
              " 'kitchen',\n",
              " 'bedroom',\n",
              " 'office',\n",
              " 'office',\n",
              " 'garden',\n",
              " 'bathroom',\n",
              " 'bathroom',\n",
              " 'office',\n",
              " 'kitchen',\n",
              " 'bedroom',\n",
              " 'office',\n",
              " 'office',\n",
              " 'hallway',\n",
              " 'office',\n",
              " 'hallway',\n",
              " 'hallway',\n",
              " 'bedroom',\n",
              " 'bathroom',\n",
              " 'office',\n",
              " 'garden',\n",
              " 'kitchen',\n",
              " 'office',\n",
              " 'hallway',\n",
              " 'kitchen',\n",
              " 'garden',\n",
              " 'hallway',\n",
              " 'hallway',\n",
              " 'garden',\n",
              " 'office',\n",
              " 'kitchen',\n",
              " 'bathroom',\n",
              " 'bedroom',\n",
              " 'hallway',\n",
              " 'office',\n",
              " 'office',\n",
              " 'bedroom',\n",
              " 'hallway',\n",
              " 'bathroom',\n",
              " 'kitchen',\n",
              " 'hallway',\n",
              " 'bathroom',\n",
              " 'bathroom',\n",
              " 'bathroom',\n",
              " 'bedroom',\n",
              " 'hallway',\n",
              " 'bedroom',\n",
              " 'bathroom',\n",
              " 'bedroom',\n",
              " 'bathroom',\n",
              " 'hallway',\n",
              " 'hallway',\n",
              " 'hallway',\n",
              " 'bathroom',\n",
              " 'hallway',\n",
              " 'kitchen',\n",
              " 'bathroom',\n",
              " 'bedroom',\n",
              " 'office',\n",
              " 'hallway',\n",
              " 'garden',\n",
              " 'bathroom',\n",
              " 'bathroom',\n",
              " 'office',\n",
              " 'garden',\n",
              " 'hallway',\n",
              " 'office',\n",
              " 'hallway',\n",
              " 'bedroom',\n",
              " 'bedroom',\n",
              " 'bathroom',\n",
              " 'bedroom',\n",
              " 'office',\n",
              " 'hallway',\n",
              " 'kitchen',\n",
              " 'garden',\n",
              " 'garden',\n",
              " 'kitchen',\n",
              " 'kitchen',\n",
              " 'garden',\n",
              " 'garden',\n",
              " 'office',\n",
              " 'garden',\n",
              " 'bedroom',\n",
              " 'office',\n",
              " 'bathroom',\n",
              " 'bathroom',\n",
              " 'bedroom',\n",
              " 'bedroom',\n",
              " 'office',\n",
              " 'office',\n",
              " 'kitchen',\n",
              " 'garden',\n",
              " 'garden',\n",
              " 'office',\n",
              " 'hallway',\n",
              " 'office',\n",
              " 'office',\n",
              " 'bathroom',\n",
              " 'garden',\n",
              " 'bedroom',\n",
              " 'bathroom',\n",
              " 'bedroom',\n",
              " 'kitchen',\n",
              " 'office',\n",
              " 'office',\n",
              " 'kitchen',\n",
              " 'bathroom',\n",
              " 'office',\n",
              " 'kitchen',\n",
              " 'hallway',\n",
              " 'office',\n",
              " 'bathroom',\n",
              " 'bathroom',\n",
              " 'garden',\n",
              " 'office',\n",
              " 'office',\n",
              " 'garden',\n",
              " 'office',\n",
              " 'bathroom',\n",
              " 'office',\n",
              " 'garden',\n",
              " 'bathroom',\n",
              " 'kitchen',\n",
              " 'kitchen',\n",
              " 'bedroom',\n",
              " 'kitchen',\n",
              " 'kitchen',\n",
              " 'garden',\n",
              " 'garden',\n",
              " 'hallway',\n",
              " 'hallway',\n",
              " 'bathroom',\n",
              " 'bathroom',\n",
              " 'bathroom',\n",
              " 'bathroom',\n",
              " 'office',\n",
              " 'hallway',\n",
              " 'garden',\n",
              " 'bathroom',\n",
              " 'office',\n",
              " 'office',\n",
              " 'kitchen',\n",
              " 'garden',\n",
              " 'garden',\n",
              " 'office',\n",
              " 'bedroom',\n",
              " 'garden',\n",
              " 'office',\n",
              " 'bedroom',\n",
              " 'office',\n",
              " 'office',\n",
              " 'garden',\n",
              " 'garden',\n",
              " 'kitchen',\n",
              " 'kitchen',\n",
              " 'garden',\n",
              " 'garden',\n",
              " 'bathroom',\n",
              " 'bedroom',\n",
              " 'garden',\n",
              " 'garden',\n",
              " 'bedroom',\n",
              " 'kitchen',\n",
              " 'office',\n",
              " 'kitchen',\n",
              " 'bedroom',\n",
              " 'bedroom',\n",
              " 'office',\n",
              " 'hallway',\n",
              " 'office',\n",
              " 'hallway',\n",
              " 'kitchen',\n",
              " 'hallway',\n",
              " 'garden',\n",
              " 'office',\n",
              " 'kitchen',\n",
              " 'garden',\n",
              " 'office',\n",
              " 'office',\n",
              " 'hallway',\n",
              " 'bedroom',\n",
              " 'kitchen',\n",
              " 'bedroom',\n",
              " 'garden',\n",
              " 'garden',\n",
              " 'bedroom',\n",
              " 'bedroom',\n",
              " 'bathroom',\n",
              " 'office',\n",
              " 'hallway',\n",
              " 'garden',\n",
              " 'hallway',\n",
              " 'garden',\n",
              " 'bathroom',\n",
              " 'garden',\n",
              " 'garden',\n",
              " 'garden',\n",
              " 'garden',\n",
              " 'garden',\n",
              " 'hallway',\n",
              " 'hallway',\n",
              " 'hallway',\n",
              " 'hallway',\n",
              " 'hallway',\n",
              " 'garden',\n",
              " 'garden',\n",
              " 'office',\n",
              " 'bedroom',\n",
              " 'kitchen',\n",
              " 'bathroom',\n",
              " 'bathroom',\n",
              " 'bedroom',\n",
              " 'bathroom',\n",
              " 'bedroom',\n",
              " 'hallway',\n",
              " 'office',\n",
              " 'office',\n",
              " 'kitchen',\n",
              " 'office',\n",
              " 'office',\n",
              " 'bedroom',\n",
              " 'kitchen',\n",
              " 'kitchen',\n",
              " 'hallway',\n",
              " 'bathroom',\n",
              " 'bedroom',\n",
              " 'office',\n",
              " 'office',\n",
              " 'bedroom',\n",
              " 'office',\n",
              " 'bathroom',\n",
              " 'garden',\n",
              " 'bedroom',\n",
              " 'garden',\n",
              " 'bedroom',\n",
              " 'kitchen',\n",
              " 'office',\n",
              " 'kitchen',\n",
              " 'hallway',\n",
              " 'hallway',\n",
              " 'office',\n",
              " 'kitchen',\n",
              " 'bedroom',\n",
              " 'garden',\n",
              " 'bathroom',\n",
              " 'hallway',\n",
              " 'office',\n",
              " 'bedroom',\n",
              " 'bedroom',\n",
              " 'kitchen',\n",
              " 'hallway',\n",
              " 'bathroom',\n",
              " 'hallway',\n",
              " 'kitchen',\n",
              " 'bathroom',\n",
              " 'bathroom',\n",
              " 'bedroom',\n",
              " 'kitchen',\n",
              " 'kitchen',\n",
              " 'office',\n",
              " 'bedroom',\n",
              " 'bedroom',\n",
              " 'office',\n",
              " 'kitchen',\n",
              " 'kitchen',\n",
              " 'garden',\n",
              " 'office',\n",
              " 'garden',\n",
              " 'kitchen',\n",
              " 'bathroom',\n",
              " 'bedroom',\n",
              " 'garden',\n",
              " 'bedroom',\n",
              " 'hallway',\n",
              " 'bathroom',\n",
              " 'garden',\n",
              " 'bedroom',\n",
              " 'garden',\n",
              " 'bedroom',\n",
              " 'hallway',\n",
              " 'garden',\n",
              " 'kitchen',\n",
              " 'kitchen',\n",
              " 'kitchen',\n",
              " 'kitchen',\n",
              " 'garden',\n",
              " 'bathroom',\n",
              " 'kitchen',\n",
              " 'bedroom',\n",
              " 'hallway',\n",
              " 'garden',\n",
              " 'hallway',\n",
              " 'bathroom',\n",
              " 'garden',\n",
              " 'bedroom',\n",
              " 'office',\n",
              " 'garden',\n",
              " 'garden',\n",
              " 'bedroom',\n",
              " 'bedroom',\n",
              " 'bedroom',\n",
              " 'office',\n",
              " 'hallway',\n",
              " 'office',\n",
              " 'office',\n",
              " 'bathroom',\n",
              " 'kitchen',\n",
              " 'garden',\n",
              " 'bathroom',\n",
              " 'kitchen',\n",
              " 'garden',\n",
              " 'bathroom',\n",
              " 'bedroom',\n",
              " 'bedroom',\n",
              " 'hallway',\n",
              " 'hallway',\n",
              " 'garden',\n",
              " 'bedroom',\n",
              " 'bathroom',\n",
              " 'hallway',\n",
              " 'bedroom',\n",
              " 'bathroom',\n",
              " 'kitchen',\n",
              " 'bedroom',\n",
              " 'bedroom',\n",
              " 'garden',\n",
              " 'bedroom',\n",
              " 'kitchen',\n",
              " 'kitchen',\n",
              " 'bedroom',\n",
              " 'hallway',\n",
              " 'hallway',\n",
              " 'kitchen',\n",
              " 'garden',\n",
              " 'bathroom',\n",
              " 'hallway',\n",
              " 'bathroom',\n",
              " 'kitchen',\n",
              " 'bedroom',\n",
              " 'office',\n",
              " 'office',\n",
              " 'bedroom',\n",
              " 'bedroom',\n",
              " 'office',\n",
              " 'bedroom',\n",
              " 'bedroom',\n",
              " 'office',\n",
              " 'bathroom',\n",
              " 'bathroom',\n",
              " 'bedroom',\n",
              " 'hallway',\n",
              " 'garden',\n",
              " 'office',\n",
              " 'office',\n",
              " 'hallway',\n",
              " 'hallway',\n",
              " 'garden',\n",
              " 'hallway',\n",
              " 'office',\n",
              " 'garden',\n",
              " 'garden',\n",
              " 'hallway',\n",
              " 'garden',\n",
              " 'garden',\n",
              " 'garden',\n",
              " 'office',\n",
              " 'bathroom',\n",
              " 'garden',\n",
              " 'bedroom',\n",
              " 'hallway',\n",
              " 'hallway',\n",
              " 'bedroom',\n",
              " 'garden',\n",
              " 'office',\n",
              " 'hallway',\n",
              " 'hallway',\n",
              " 'kitchen',\n",
              " 'garden',\n",
              " 'kitchen',\n",
              " 'kitchen',\n",
              " 'hallway',\n",
              " 'bedroom',\n",
              " 'bedroom',\n",
              " 'bathroom',\n",
              " 'office',\n",
              " 'bedroom',\n",
              " 'kitchen',\n",
              " 'hallway',\n",
              " 'kitchen',\n",
              " 'bedroom',\n",
              " 'bedroom',\n",
              " 'bedroom',\n",
              " 'garden',\n",
              " 'bedroom',\n",
              " 'garden',\n",
              " 'kitchen',\n",
              " 'bedroom',\n",
              " 'bathroom',\n",
              " 'bathroom',\n",
              " 'kitchen',\n",
              " 'bedroom',\n",
              " 'office',\n",
              " 'bedroom',\n",
              " 'bedroom',\n",
              " 'kitchen',\n",
              " 'kitchen',\n",
              " 'office',\n",
              " 'bathroom',\n",
              " 'bedroom',\n",
              " 'hallway',\n",
              " 'bedroom',\n",
              " 'bathroom',\n",
              " 'hallway',\n",
              " 'bathroom',\n",
              " 'garden',\n",
              " 'kitchen',\n",
              " 'bedroom',\n",
              " 'bedroom',\n",
              " 'garden',\n",
              " 'hallway',\n",
              " 'bedroom',\n",
              " 'bedroom',\n",
              " 'office',\n",
              " 'hallway',\n",
              " 'office',\n",
              " 'garden',\n",
              " 'bathroom',\n",
              " 'bathroom',\n",
              " 'office',\n",
              " 'office',\n",
              " 'garden',\n",
              " 'bedroom',\n",
              " 'bedroom',\n",
              " 'bedroom',\n",
              " 'kitchen',\n",
              " 'kitchen',\n",
              " 'office',\n",
              " 'garden',\n",
              " 'kitchen',\n",
              " 'hallway',\n",
              " 'garden',\n",
              " 'bedroom',\n",
              " 'kitchen',\n",
              " 'office',\n",
              " 'bathroom',\n",
              " 'garden',\n",
              " 'bathroom',\n",
              " 'office',\n",
              " 'kitchen',\n",
              " 'hallway',\n",
              " 'bathroom',\n",
              " 'office',\n",
              " 'garden',\n",
              " 'office',\n",
              " 'bedroom',\n",
              " 'kitchen',\n",
              " 'bathroom',\n",
              " 'bedroom',\n",
              " 'bathroom',\n",
              " 'bathroom',\n",
              " 'bedroom',\n",
              " 'bedroom',\n",
              " 'bathroom',\n",
              " 'bedroom',\n",
              " 'bedroom',\n",
              " 'kitchen',\n",
              " 'garden',\n",
              " 'garden',\n",
              " 'garden',\n",
              " 'kitchen',\n",
              " 'hallway',\n",
              " 'bathroom',\n",
              " 'garden',\n",
              " 'garden',\n",
              " 'bedroom',\n",
              " 'office',\n",
              " 'garden',\n",
              " 'garden',\n",
              " 'hallway',\n",
              " 'office',\n",
              " 'kitchen',\n",
              " 'kitchen',\n",
              " 'bathroom',\n",
              " 'garden',\n",
              " 'kitchen',\n",
              " 'kitchen',\n",
              " 'garden',\n",
              " 'bathroom',\n",
              " 'kitchen',\n",
              " 'kitchen',\n",
              " 'garden',\n",
              " 'kitchen',\n",
              " 'kitchen',\n",
              " 'kitchen',\n",
              " 'garden',\n",
              " 'bedroom',\n",
              " 'bedroom',\n",
              " 'bathroom',\n",
              " 'office',\n",
              " 'office',\n",
              " 'office',\n",
              " 'office',\n",
              " 'bedroom',\n",
              " 'bedroom',\n",
              " 'office',\n",
              " 'bathroom',\n",
              " 'kitchen',\n",
              " 'bathroom',\n",
              " 'office',\n",
              " 'hallway',\n",
              " 'hallway',\n",
              " 'bathroom',\n",
              " 'kitchen',\n",
              " 'kitchen',\n",
              " 'kitchen',\n",
              " 'office',\n",
              " 'bathroom',\n",
              " 'garden',\n",
              " 'bathroom',\n",
              " 'office',\n",
              " 'bathroom',\n",
              " 'hallway',\n",
              " 'garden',\n",
              " 'bathroom',\n",
              " 'bathroom',\n",
              " 'office',\n",
              " 'garden',\n",
              " 'garden',\n",
              " 'garden',\n",
              " 'bedroom',\n",
              " 'kitchen',\n",
              " 'bedroom',\n",
              " 'hallway',\n",
              " 'hallway',\n",
              " 'bathroom',\n",
              " 'bathroom',\n",
              " 'office',\n",
              " 'hallway',\n",
              " 'hallway',\n",
              " 'bathroom',\n",
              " 'office',\n",
              " 'hallway',\n",
              " 'garden',\n",
              " 'garden',\n",
              " 'kitchen',\n",
              " 'kitchen',\n",
              " 'hallway',\n",
              " 'garden',\n",
              " 'hallway',\n",
              " 'office',\n",
              " 'bathroom',\n",
              " 'office',\n",
              " 'garden',\n",
              " 'hallway',\n",
              " 'bedroom',\n",
              " 'office',\n",
              " 'office',\n",
              " 'garden',\n",
              " 'office',\n",
              " 'bathroom',\n",
              " 'garden',\n",
              " 'bathroom',\n",
              " 'bedroom',\n",
              " 'bedroom',\n",
              " 'hallway',\n",
              " 'office',\n",
              " 'bedroom',\n",
              " 'hallway',\n",
              " 'bathroom',\n",
              " 'bathroom',\n",
              " 'bathroom',\n",
              " 'kitchen',\n",
              " 'garden',\n",
              " 'garden',\n",
              " 'kitchen',\n",
              " 'office',\n",
              " 'bathroom',\n",
              " 'bedroom',\n",
              " 'bathroom',\n",
              " 'hallway',\n",
              " 'office',\n",
              " 'kitchen',\n",
              " 'office',\n",
              " 'office',\n",
              " 'hallway',\n",
              " 'bedroom',\n",
              " 'bedroom',\n",
              " 'garden',\n",
              " 'garden',\n",
              " 'office',\n",
              " 'bathroom',\n",
              " 'bathroom',\n",
              " 'office',\n",
              " 'bedroom',\n",
              " 'bathroom',\n",
              " 'garden',\n",
              " 'hallway',\n",
              " 'kitchen',\n",
              " 'bathroom',\n",
              " 'kitchen',\n",
              " 'hallway',\n",
              " 'bedroom',\n",
              " 'bathroom',\n",
              " 'bedroom',\n",
              " 'office',\n",
              " 'office',\n",
              " 'office',\n",
              " 'kitchen',\n",
              " 'bathroom',\n",
              " 'bathroom',\n",
              " 'bathroom',\n",
              " 'office',\n",
              " 'bedroom',\n",
              " 'office',\n",
              " 'office',\n",
              " 'bathroom',\n",
              " 'hallway',\n",
              " 'office',\n",
              " 'office',\n",
              " 'hallway',\n",
              " 'hallway',\n",
              " 'garden',\n",
              " 'garden',\n",
              " 'garden',\n",
              " 'bathroom',\n",
              " 'office',\n",
              " 'garden',\n",
              " 'office',\n",
              " 'office',\n",
              " 'office',\n",
              " 'office',\n",
              " 'office',\n",
              " 'hallway',\n",
              " 'bathroom',\n",
              " 'office',\n",
              " 'bedroom',\n",
              " 'office',\n",
              " 'garden',\n",
              " 'bedroom',\n",
              " 'bedroom',\n",
              " 'hallway',\n",
              " 'hallway',\n",
              " 'garden',\n",
              " 'garden',\n",
              " 'office',\n",
              " 'hallway',\n",
              " 'hallway',\n",
              " 'office',\n",
              " 'office',\n",
              " 'kitchen',\n",
              " 'garden',\n",
              " 'office',\n",
              " 'garden',\n",
              " 'garden',\n",
              " 'bathroom',\n",
              " 'hallway',\n",
              " 'bathroom',\n",
              " 'office',\n",
              " 'bathroom',\n",
              " 'bedroom',\n",
              " 'hallway',\n",
              " 'kitchen',\n",
              " 'garden',\n",
              " 'bathroom',\n",
              " 'bathroom',\n",
              " 'kitchen',\n",
              " 'bedroom',\n",
              " 'bathroom',\n",
              " 'bathroom',\n",
              " 'bathroom',\n",
              " 'office',\n",
              " 'bathroom',\n",
              " 'garden',\n",
              " 'garden',\n",
              " 'office',\n",
              " 'kitchen',\n",
              " 'kitchen',\n",
              " 'bedroom',\n",
              " 'bedroom',\n",
              " 'garden',\n",
              " 'garden',\n",
              " 'office',\n",
              " 'bedroom',\n",
              " 'hallway',\n",
              " 'bathroom',\n",
              " 'bedroom',\n",
              " 'bedroom',\n",
              " 'bedroom',\n",
              " 'bedroom',\n",
              " 'bedroom',\n",
              " 'kitchen',\n",
              " 'office',\n",
              " 'bathroom',\n",
              " 'garden',\n",
              " 'office',\n",
              " 'kitchen',\n",
              " 'hallway',\n",
              " 'garden',\n",
              " 'bedroom',\n",
              " 'bedroom',\n",
              " 'kitchen',\n",
              " 'hallway',\n",
              " 'bedroom',\n",
              " 'garden',\n",
              " 'hallway',\n",
              " 'hallway',\n",
              " 'garden',\n",
              " 'garden',\n",
              " 'garden',\n",
              " 'kitchen',\n",
              " 'hallway',\n",
              " 'office',\n",
              " 'bedroom',\n",
              " 'hallway',\n",
              " 'office',\n",
              " 'office',\n",
              " 'hallway',\n",
              " 'bedroom',\n",
              " 'bedroom',\n",
              " 'hallway',\n",
              " 'office',\n",
              " 'bedroom',\n",
              " 'garden',\n",
              " 'office',\n",
              " 'garden',\n",
              " 'hallway',\n",
              " 'office',\n",
              " 'office',\n",
              " 'garden',\n",
              " 'hallway',\n",
              " 'garden',\n",
              " 'office',\n",
              " 'bathroom',\n",
              " 'bathroom',\n",
              " 'garden',\n",
              " 'office',\n",
              " 'garden',\n",
              " 'garden',\n",
              " 'kitchen',\n",
              " 'kitchen',\n",
              " 'office',\n",
              " 'office',\n",
              " 'bedroom',\n",
              " 'bedroom',\n",
              " 'office',\n",
              " 'hallway',\n",
              " 'garden',\n",
              " 'kitchen',\n",
              " 'hallway',\n",
              " 'garden',\n",
              " 'garden',\n",
              " 'bedroom',\n",
              " 'bathroom',\n",
              " 'hallway',\n",
              " 'hallway',\n",
              " 'kitchen',\n",
              " 'bedroom',\n",
              " 'bathroom',\n",
              " 'office',\n",
              " 'kitchen',\n",
              " 'office',\n",
              " 'bathroom',\n",
              " 'office',\n",
              " 'office',\n",
              " 'bedroom',\n",
              " 'office',\n",
              " 'kitchen',\n",
              " 'hallway',\n",
              " 'hallway',\n",
              " 'garden',\n",
              " 'bedroom',\n",
              " 'hallway',\n",
              " 'bedroom',\n",
              " 'office',\n",
              " 'office',\n",
              " 'kitchen',\n",
              " 'hallway',\n",
              " 'office',\n",
              " 'bathroom',\n",
              " 'bathroom',\n",
              " 'kitchen',\n",
              " 'bedroom',\n",
              " 'hallway',\n",
              " 'kitchen',\n",
              " 'kitchen',\n",
              " 'kitchen',\n",
              " 'office',\n",
              " 'office',\n",
              " 'kitchen',\n",
              " 'garden',\n",
              " 'kitchen',\n",
              " 'bedroom',\n",
              " 'hallway',\n",
              " 'bathroom',\n",
              " 'bathroom',\n",
              " 'bedroom',\n",
              " 'garden',\n",
              " 'garden',\n",
              " 'bathroom',\n",
              " 'bathroom',\n",
              " 'hallway',\n",
              " 'kitchen',\n",
              " 'bathroom',\n",
              " 'kitchen',\n",
              " 'bathroom',\n",
              " 'hallway',\n",
              " 'hallway',\n",
              " 'bedroom',\n",
              " 'office',\n",
              " 'office',\n",
              " 'bedroom',\n",
              " 'hallway',\n",
              " 'kitchen',\n",
              " 'bathroom',\n",
              " 'bedroom',\n",
              " 'office',\n",
              " 'garden',\n",
              " 'garden',\n",
              " 'garden',\n",
              " 'office',\n",
              " 'bathroom',\n",
              " 'bathroom',\n",
              " 'garden',\n",
              " 'kitchen',\n",
              " 'garden',\n",
              " 'garden',\n",
              " 'garden',\n",
              " 'kitchen',\n",
              " 'hallway',\n",
              " 'office',\n",
              " 'bathroom',\n",
              " 'bedroom']"
            ]
          },
          "metadata": {},
          "execution_count": 120
        }
      ],
      "source": [
        "predictions = np.argmax(pred_result, axis=1)\n",
        "pred_answers = [index_word[pred] for pred in predictions]\n",
        "pred_answers"
      ]
    }
  ],
  "metadata": {
    "colab": {
      "provenance": []
    },
    "kernelspec": {
      "display_name": "Python 3",
      "language": "python",
      "name": "python3"
    },
    "language_info": {
      "codemirror_mode": {
        "name": "ipython",
        "version": 3
      },
      "file_extension": ".py",
      "mimetype": "text/x-python",
      "name": "python",
      "nbconvert_exporter": "python",
      "pygments_lexer": "ipython3",
      "version": "3.6.8"
    }
  },
  "nbformat": 4,
  "nbformat_minor": 0
}